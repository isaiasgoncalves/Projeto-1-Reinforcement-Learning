{
 "cells": [
  {
   "cell_type": "markdown",
   "id": "0bf7b216",
   "metadata": {},
   "source": [
    "# Projeto 1 - Aprendizado por Reforço\n",
    "\n",
    "* Isaías Gouvêa Gonçalves\n",
    "* Joyce Figueiró Braga"
   ]
  },
  {
   "cell_type": "code",
   "execution_count": null,
   "id": "68542cb3",
   "metadata": {},
   "outputs": [],
   "source": [
    "# Constantes iniciais\n",
    "\n",
    "alpha = 0.5\n",
    "beta = 0.5\n",
    "\n",
    "r_search = 2\n",
    "r_wait = 0.5"
   ]
  }
 ],
 "metadata": {
  "kernelspec": {
   "display_name": "base",
   "language": "python",
   "name": "python3"
  },
  "language_info": {
   "name": "python",
   "version": "3.13.5"
  }
 },
 "nbformat": 4,
 "nbformat_minor": 5
}
